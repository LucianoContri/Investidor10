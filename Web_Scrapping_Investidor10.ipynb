{
 "cells": [
  {
   "cell_type": "code",
   "id": "2dc3a0d08ccf0c7b",
   "metadata": {
    "collapsed": true,
    "ExecuteTime": {
     "end_time": "2024-04-22T05:16:40.972039Z",
     "start_time": "2024-04-22T05:16:40.968648Z"
    }
   },
   "source": [
    "import pandas as pd\n",
    "from selenium import webdriver\n",
    "from selenium.webdriver.chrome.service import Service\n",
    "from bs4 import BeautifulSoup\n",
    "import time"
   ],
   "execution_count": 151,
   "outputs": []
  },
  {
   "metadata": {
    "ExecuteTime": {
     "end_time": "2024-04-22T05:16:40.992976Z",
     "start_time": "2024-04-22T05:16:40.991057Z"
    }
   },
   "cell_type": "code",
   "source": "",
   "id": "62354a592a0cd554",
   "execution_count": 151,
   "outputs": []
  },
  {
   "metadata": {
    "ExecuteTime": {
     "end_time": "2024-04-22T05:16:41.031173Z",
     "start_time": "2024-04-22T05:16:41.026008Z"
    }
   },
   "cell_type": "code",
   "source": [
    "import pandas as pd\n",
    "        \n",
    "acoes_listadas_b3 = pd.read_csv('acoes-listadas-b3.csv', sep = ',')"
   ],
   "id": "b936683164c0a68b",
   "execution_count": 152,
   "outputs": []
  },
  {
   "metadata": {
    "ExecuteTime": {
     "end_time": "2024-04-22T05:16:41.060739Z",
     "start_time": "2024-04-22T05:16:41.056357Z"
    }
   },
   "cell_type": "code",
   "source": [
    "\n",
    "# Configuração inicial do WebDriver\n",
    "service = Service()\n",
    "options = webdriver.ChromeOptions()\n",
    "options.add_argument(\"--headless\")\n",
    "options.add_argument(\"--disable-gpu\")\n",
    "options.add_argument(\"--window-size=1920x1080\")\n",
    "options.add_argument(\"--disable-notifications\")\n",
    "options.add_argument('--no-sandbox')\n",
    "options.add_argument('--verbose')\n",
    "options.add_argument(\"--user-agent=Mozilla/5.0 (Windows NT 10.0; Win64; x64) AppleWebKit/537.36 (KHTML, like Gecko) Chrome/91.0.4472.124 Safari/537.36\")"
   ],
   "id": "5920dc442af768b4",
   "execution_count": 153,
   "outputs": []
  },
  {
   "metadata": {
    "ExecuteTime": {
     "end_time": "2024-04-22T05:16:46.396879Z",
     "start_time": "2024-04-22T05:16:41.061796Z"
    }
   },
   "cell_type": "code",
   "source": [
    "\n",
    "# Inicie o navegador\n",
    "browser = webdriver.Chrome(service=service, options=options)\n",
    "\n",
    "# Lista de URLs das ações\n",
    "acoes_urls = ['https://investidor10.com.br/acoes/taee11/', 'https://investidor10.com.br/acoes/wege3/', 'https://investidor10.com.br/acoes/petr4/']\n",
    "\n",
    "df = pd.DataFrame()"
   ],
   "id": "b879ec4cc53faf74",
   "execution_count": 154,
   "outputs": []
  },
  {
   "metadata": {
    "ExecuteTime": {
     "end_time": "2024-04-22T05:16:46.402615Z",
     "start_time": "2024-04-22T05:16:46.397892Z"
    }
   },
   "cell_type": "code",
   "source": "acoes_listadas_b3['Ticker']",
   "id": "5622e2a626597e1d",
   "execution_count": 155,
   "outputs": []
  },
  {
   "metadata": {
    "ExecuteTime": {
     "end_time": "2024-04-22T06:58:10.979017Z",
     "start_time": "2024-04-22T05:16:46.404628Z"
    }
   },
   "cell_type": "code",
   "source": [
    "\n",
    "for urls in acoes_listadas_b3['Ticker']:\n",
    "    url = 'https://investidor10.com.br/acoes/' + str(urls).lower() + '/'\n",
    "    try:\n",
    "        browser.get(url)\n",
    "        time.sleep(10)  # Wait for the page to load completely\n",
    "        page_content = browser.page_source\n",
    "        soup = BeautifulSoup(page_content, 'html.parser')\n",
    "        table = soup.find(id='table-indicators-history')\n",
    "\n",
    "        if table:\n",
    "            years = [th.get_text().strip() for th in table.find_all(\"th\", class_=\"year\")]\n",
    "            indicadores = [td.get_text().strip() for td in table.find_all(\"td\", class_=\"indicator\")]\n",
    "\n",
    "            all_values = []\n",
    "            for row in table.find_all(\"tr\", class_=[\"visible-even\", \"visible-odd\"]):\n",
    "                values = [value_td.get_text().strip() for value_td in row.find_all(\"td\", class_=\"value\")]\n",
    "                if len(values) == len(years):\n",
    "                    all_values.append(values)\n",
    "\n",
    "            df_temp = pd.DataFrame(all_values, columns=years, index=indicadores)\n",
    "            df_temp['acao'] = str(urls).lower()\n",
    "            df = pd.concat([df, df_temp])\n",
    "\n",
    "    except Exception as e:\n",
    "        print(f\"An error occurred while processing {url}: {e}\")\n",
    "\n",
    "        break  # Break the loop after handling the error\n",
    "\n",
    "df.to_csv(\"investidor10_acoes.csv\")\n",
    "browser.quit()"
   ],
   "id": "initial_id",
   "execution_count": 156,
   "outputs": []
  },
  {
   "metadata": {
    "ExecuteTime": {
     "end_time": "2024-04-22T17:16:08.013229Z",
     "start_time": "2024-04-22T17:16:08.009383Z"
    }
   },
   "cell_type": "code",
   "source": "df.shape",
   "id": "6aada84dda12cac0",
   "execution_count": 160,
   "outputs": []
  },
  {
   "metadata": {
    "ExecuteTime": {
     "end_time": "2024-04-22T17:16:23.061784Z",
     "start_time": "2024-04-22T17:16:23.016553Z"
    }
   },
   "cell_type": "code",
   "source": "df.to_csv(\"investidor10_acoes_1.csv\")",
   "id": "15b779db338528f9",
   "execution_count": 161,
   "outputs": []
  },
  {
   "metadata": {},
   "cell_type": "code",
   "execution_count": null,
   "source": "",
   "id": "5f476683b76f4871",
   "outputs": []
  }
 ],
 "metadata": {
  "kernelspec": {
   "display_name": "Python 3",
   "language": "python",
   "name": "python3"
  },
  "language_info": {
   "codemirror_mode": {
    "name": "ipython",
    "version": 2
   },
   "file_extension": ".py",
   "mimetype": "text/x-python",
   "name": "python",
   "nbconvert_exporter": "python",
   "pygments_lexer": "ipython2",
   "version": "2.7.6"
  }
 },
 "nbformat": 4,
 "nbformat_minor": 5
}
